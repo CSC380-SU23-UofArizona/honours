{
 "cells": [
  {
   "cell_type": "code",
   "execution_count": 51,
   "metadata": {},
   "outputs": [],
   "source": [
    "import pandas as pd\n",
    "import matplotlib.pyplot as plt\n",
    "import tensorflow as tf\n",
    "import tensorflow_recommenders as tfrs\n",
    "from typing import Dict, Text"
   ]
  },
  {
   "cell_type": "markdown",
   "metadata": {},
   "source": [
    "# 1. Setup"
   ]
  },
  {
   "cell_type": "markdown",
   "metadata": {},
   "source": [
    "Chose the Anime Recommendation Database 2020 dataset on Kaggle"
   ]
  },
  {
   "cell_type": "markdown",
   "metadata": {},
   "source": [
    "# 2. Data Collection"
   ]
  },
  {
   "cell_type": "markdown",
   "metadata": {},
   "source": [
    "## 2.1 - Dataset Description"
   ]
  },
  {
   "cell_type": "markdown",
   "metadata": {},
   "source": [
    "The Anime Recommendation Database 2020 dataset is a dataset that contains data from around 320,000 users and 16,000 anime. The data is gathered from myanimelist.net, a popular anime community and source for anime data. The collector of the data has a github repository with the Jupyter Notebook that shows how he scraped the data from the website. Although the archive for the database contained five data sheets, we will only need two for this recommendation system. The first is 'anime.csv'. This contains data about every anime, including its My Anime List (MAL) ID, the name of the anime, its average rating across all its reviews, the genre(s) of the anime, and much more. This datasheet contains around 109 million rows. The other data sheet used in this project is 'rating_complete.csv'. This contains 57 million ratings on 16,872 anime given by 310,059 users. This data sheet only considers animes that these users have watched completely and have given a score. This dataset only has three columns: 'user_id', 'anime_id', and 'rating'. The 'user_id' column contains a randomly generated user id for each user's rating so that it would not be possible to identify who the actualy reviewer is. The 'anime_id' column contains the MAL ID of the anime reviewed by the user. This is the same MAL ID given to anime in the 'anime.csv' data sheet. Then, the 'rating' columns contains the rating of the anime given by the user. These ratings are numerical, ranging from the lowest rating of 1 (appalling) to the highest rating of 10 (masterpiece). These two datasets give us the necessary tools to create a hybrid recommendation system. The data from 'anime.csv' gives us our content-based filtering while the data from 'rating_complete.csv' gives us our collaborative filtering. "
   ]
  },
  {
   "cell_type": "markdown",
   "metadata": {},
   "source": [
    "# 3. Data Preprocessing"
   ]
  },
  {
   "cell_type": "markdown",
   "metadata": {},
   "source": [
    "## 3.1 - Data Cleaning"
   ]
  },
  {
   "cell_type": "markdown",
   "metadata": {},
   "source": [
    "### 1. Perform initial data exploration"
   ]
  },
  {
   "cell_type": "markdown",
   "metadata": {},
   "source": [
    "#### Exploration on anime.csv"
   ]
  },
  {
   "cell_type": "code",
   "execution_count": 52,
   "metadata": {},
   "outputs": [
    {
     "data": {
      "text/plain": [
       "(17562, 35)"
      ]
     },
     "execution_count": 52,
     "metadata": {},
     "output_type": "execute_result"
    }
   ],
   "source": [
    "anime_df = pd.read_csv(\"anime.csv\")\n",
    "anime_df.shape"
   ]
  },
  {
   "cell_type": "code",
   "execution_count": 53,
   "metadata": {},
   "outputs": [
    {
     "data": {
      "text/html": [
       "<div>\n",
       "<style scoped>\n",
       "    .dataframe tbody tr th:only-of-type {\n",
       "        vertical-align: middle;\n",
       "    }\n",
       "\n",
       "    .dataframe tbody tr th {\n",
       "        vertical-align: top;\n",
       "    }\n",
       "\n",
       "    .dataframe thead th {\n",
       "        text-align: right;\n",
       "    }\n",
       "</style>\n",
       "<table border=\"1\" class=\"dataframe\">\n",
       "  <thead>\n",
       "    <tr style=\"text-align: right;\">\n",
       "      <th></th>\n",
       "      <th>MAL_ID</th>\n",
       "      <th>Name</th>\n",
       "      <th>Score</th>\n",
       "      <th>Genres</th>\n",
       "      <th>English name</th>\n",
       "      <th>Japanese name</th>\n",
       "      <th>Type</th>\n",
       "      <th>Episodes</th>\n",
       "      <th>Aired</th>\n",
       "      <th>Premiered</th>\n",
       "      <th>...</th>\n",
       "      <th>Score-10</th>\n",
       "      <th>Score-9</th>\n",
       "      <th>Score-8</th>\n",
       "      <th>Score-7</th>\n",
       "      <th>Score-6</th>\n",
       "      <th>Score-5</th>\n",
       "      <th>Score-4</th>\n",
       "      <th>Score-3</th>\n",
       "      <th>Score-2</th>\n",
       "      <th>Score-1</th>\n",
       "    </tr>\n",
       "  </thead>\n",
       "  <tbody>\n",
       "    <tr>\n",
       "      <th>17489</th>\n",
       "      <td>46925</td>\n",
       "      <td>Ye Xing Xia Ying</td>\n",
       "      <td>Unknown</td>\n",
       "      <td>Action, Fantasy, Sci-Fi</td>\n",
       "      <td>Dragon Agents</td>\n",
       "      <td>夜刑侠影</td>\n",
       "      <td>ONA</td>\n",
       "      <td>Unknown</td>\n",
       "      <td>Unknown</td>\n",
       "      <td>Unknown</td>\n",
       "      <td>...</td>\n",
       "      <td>Unknown</td>\n",
       "      <td>Unknown</td>\n",
       "      <td>Unknown</td>\n",
       "      <td>Unknown</td>\n",
       "      <td>Unknown</td>\n",
       "      <td>Unknown</td>\n",
       "      <td>Unknown</td>\n",
       "      <td>Unknown</td>\n",
       "      <td>Unknown</td>\n",
       "      <td>Unknown</td>\n",
       "    </tr>\n",
       "    <tr>\n",
       "      <th>5714</th>\n",
       "      <td>9328</td>\n",
       "      <td>Shoujo Senki Soul Eater</td>\n",
       "      <td>6.41</td>\n",
       "      <td>Hentai</td>\n",
       "      <td>Unknown</td>\n",
       "      <td>少女戦機 ソウルイーター</td>\n",
       "      <td>OVA</td>\n",
       "      <td>1</td>\n",
       "      <td>Sep 24, 2010</td>\n",
       "      <td>Unknown</td>\n",
       "      <td>...</td>\n",
       "      <td>296.0</td>\n",
       "      <td>231.0</td>\n",
       "      <td>428.0</td>\n",
       "      <td>543.0</td>\n",
       "      <td>458.0</td>\n",
       "      <td>330.0</td>\n",
       "      <td>176.0</td>\n",
       "      <td>81.0</td>\n",
       "      <td>82.0</td>\n",
       "      <td>102.0</td>\n",
       "    </tr>\n",
       "    <tr>\n",
       "      <th>13346</th>\n",
       "      <td>35983</td>\n",
       "      <td>Harukana Receive</td>\n",
       "      <td>6.7</td>\n",
       "      <td>Slice of Life, Sports</td>\n",
       "      <td>Harukana Receive</td>\n",
       "      <td>はるかなレシーブ</td>\n",
       "      <td>TV</td>\n",
       "      <td>12</td>\n",
       "      <td>Jul 6, 2018 to Sep 21, 2018</td>\n",
       "      <td>Summer 2018</td>\n",
       "      <td>...</td>\n",
       "      <td>1097.0</td>\n",
       "      <td>1881.0</td>\n",
       "      <td>5034.0</td>\n",
       "      <td>9955.0</td>\n",
       "      <td>7310.0</td>\n",
       "      <td>3878.0</td>\n",
       "      <td>1441.0</td>\n",
       "      <td>570.0</td>\n",
       "      <td>237.0</td>\n",
       "      <td>162.0</td>\n",
       "    </tr>\n",
       "    <tr>\n",
       "      <th>8466</th>\n",
       "      <td>21493</td>\n",
       "      <td>Ninja Hattori-kun: Nin Nin Ninpo Enikki no Maki</td>\n",
       "      <td>6.11</td>\n",
       "      <td>Comedy, Martial Arts, Slice of Life</td>\n",
       "      <td>Unknown</td>\n",
       "      <td>忍者ハットリくん ニンニン忍法絵日記の巻</td>\n",
       "      <td>Movie</td>\n",
       "      <td>1</td>\n",
       "      <td>Mar 13, 1982</td>\n",
       "      <td>Unknown</td>\n",
       "      <td>...</td>\n",
       "      <td>15.0</td>\n",
       "      <td>2.0</td>\n",
       "      <td>15.0</td>\n",
       "      <td>28.0</td>\n",
       "      <td>40.0</td>\n",
       "      <td>32.0</td>\n",
       "      <td>9.0</td>\n",
       "      <td>4.0</td>\n",
       "      <td>1.0</td>\n",
       "      <td>6.0</td>\n",
       "    </tr>\n",
       "    <tr>\n",
       "      <th>12153</th>\n",
       "      <td>33908</td>\n",
       "      <td>Yasoukyoku</td>\n",
       "      <td>5.69</td>\n",
       "      <td>Music</td>\n",
       "      <td>Unknown</td>\n",
       "      <td>夜想曲</td>\n",
       "      <td>Music</td>\n",
       "      <td>1</td>\n",
       "      <td>Jan 4, 2011</td>\n",
       "      <td>Unknown</td>\n",
       "      <td>...</td>\n",
       "      <td>7.0</td>\n",
       "      <td>Unknown</td>\n",
       "      <td>6.0</td>\n",
       "      <td>14.0</td>\n",
       "      <td>22.0</td>\n",
       "      <td>27.0</td>\n",
       "      <td>11.0</td>\n",
       "      <td>7.0</td>\n",
       "      <td>4.0</td>\n",
       "      <td>5.0</td>\n",
       "    </tr>\n",
       "    <tr>\n",
       "      <th>3746</th>\n",
       "      <td>4617</td>\n",
       "      <td>Nana Toshi Monogatari: Hokkyokukai Sensen</td>\n",
       "      <td>6.25</td>\n",
       "      <td>Sci-Fi, Drama</td>\n",
       "      <td>Unknown</td>\n",
       "      <td>七都市物語 ～北極海戦線～</td>\n",
       "      <td>OVA</td>\n",
       "      <td>2</td>\n",
       "      <td>Jun 22, 1994</td>\n",
       "      <td>Unknown</td>\n",
       "      <td>...</td>\n",
       "      <td>18.0</td>\n",
       "      <td>29.0</td>\n",
       "      <td>92.0</td>\n",
       "      <td>212.0</td>\n",
       "      <td>166.0</td>\n",
       "      <td>138.0</td>\n",
       "      <td>51.0</td>\n",
       "      <td>19.0</td>\n",
       "      <td>10.0</td>\n",
       "      <td>5.0</td>\n",
       "    </tr>\n",
       "    <tr>\n",
       "      <th>7934</th>\n",
       "      <td>18655</td>\n",
       "      <td>Koikishi Purely☆Kiss The Animation</td>\n",
       "      <td>7.2</td>\n",
       "      <td>Hentai, Romance</td>\n",
       "      <td>Unknown</td>\n",
       "      <td>恋騎士 Purely☆Kiss The Animation</td>\n",
       "      <td>OVA</td>\n",
       "      <td>2</td>\n",
       "      <td>Jul 26, 2013 to Feb 28, 2014</td>\n",
       "      <td>Unknown</td>\n",
       "      <td>...</td>\n",
       "      <td>654.0</td>\n",
       "      <td>575.0</td>\n",
       "      <td>1069.0</td>\n",
       "      <td>1213.0</td>\n",
       "      <td>690.0</td>\n",
       "      <td>373.0</td>\n",
       "      <td>129.0</td>\n",
       "      <td>86.0</td>\n",
       "      <td>55.0</td>\n",
       "      <td>60.0</td>\n",
       "    </tr>\n",
       "    <tr>\n",
       "      <th>16584</th>\n",
       "      <td>41250</td>\n",
       "      <td>Oshiete Hokusai! The Animation</td>\n",
       "      <td>Unknown</td>\n",
       "      <td>Slice of Life, Comedy, Fantasy</td>\n",
       "      <td>Unknown</td>\n",
       "      <td>おしえて北斎！ -THE ANIMATION-</td>\n",
       "      <td>ONA</td>\n",
       "      <td>10</td>\n",
       "      <td>Mar 7, 2021 to Mar 14, 2021</td>\n",
       "      <td>Unknown</td>\n",
       "      <td>...</td>\n",
       "      <td>Unknown</td>\n",
       "      <td>Unknown</td>\n",
       "      <td>Unknown</td>\n",
       "      <td>1.0</td>\n",
       "      <td>2.0</td>\n",
       "      <td>1.0</td>\n",
       "      <td>1.0</td>\n",
       "      <td>Unknown</td>\n",
       "      <td>Unknown</td>\n",
       "      <td>Unknown</td>\n",
       "    </tr>\n",
       "    <tr>\n",
       "      <th>14277</th>\n",
       "      <td>37464</td>\n",
       "      <td>Wasurenai yo</td>\n",
       "      <td>Unknown</td>\n",
       "      <td>Music, Kids</td>\n",
       "      <td>Unknown</td>\n",
       "      <td>忘れないよ</td>\n",
       "      <td>Music</td>\n",
       "      <td>1</td>\n",
       "      <td>Feb 1, 2018</td>\n",
       "      <td>Unknown</td>\n",
       "      <td>...</td>\n",
       "      <td>5.0</td>\n",
       "      <td>1.0</td>\n",
       "      <td>4.0</td>\n",
       "      <td>9.0</td>\n",
       "      <td>8.0</td>\n",
       "      <td>11.0</td>\n",
       "      <td>3.0</td>\n",
       "      <td>3.0</td>\n",
       "      <td>1.0</td>\n",
       "      <td>4.0</td>\n",
       "    </tr>\n",
       "    <tr>\n",
       "      <th>808</th>\n",
       "      <td>893</td>\n",
       "      <td>Dragon Ball Movie 4: Saikyou e no Michi</td>\n",
       "      <td>7.15</td>\n",
       "      <td>Action, Adventure, Comedy, Fantasy, Sci-Fi, Sh...</td>\n",
       "      <td>Dragon Ball:The Path to Power</td>\n",
       "      <td>ドラゴンボール 最強への道</td>\n",
       "      <td>Movie</td>\n",
       "      <td>1</td>\n",
       "      <td>Mar 2, 1996</td>\n",
       "      <td>Unknown</td>\n",
       "      <td>...</td>\n",
       "      <td>2563.0</td>\n",
       "      <td>2260.0</td>\n",
       "      <td>4956.0</td>\n",
       "      <td>7691.0</td>\n",
       "      <td>4403.0</td>\n",
       "      <td>2161.0</td>\n",
       "      <td>597.0</td>\n",
       "      <td>214.0</td>\n",
       "      <td>88.0</td>\n",
       "      <td>85.0</td>\n",
       "    </tr>\n",
       "  </tbody>\n",
       "</table>\n",
       "<p>10 rows × 35 columns</p>\n",
       "</div>"
      ],
      "text/plain": [
       "       MAL_ID                                             Name    Score  \\\n",
       "17489   46925                                 Ye Xing Xia Ying  Unknown   \n",
       "5714     9328                          Shoujo Senki Soul Eater     6.41   \n",
       "13346   35983                                 Harukana Receive      6.7   \n",
       "8466    21493  Ninja Hattori-kun: Nin Nin Ninpo Enikki no Maki     6.11   \n",
       "12153   33908                                       Yasoukyoku     5.69   \n",
       "3746     4617        Nana Toshi Monogatari: Hokkyokukai Sensen     6.25   \n",
       "7934    18655               Koikishi Purely☆Kiss The Animation      7.2   \n",
       "16584   41250                   Oshiete Hokusai! The Animation  Unknown   \n",
       "14277   37464                                     Wasurenai yo  Unknown   \n",
       "808       893          Dragon Ball Movie 4: Saikyou e no Michi     7.15   \n",
       "\n",
       "                                                  Genres  \\\n",
       "17489                            Action, Fantasy, Sci-Fi   \n",
       "5714                                              Hentai   \n",
       "13346                              Slice of Life, Sports   \n",
       "8466                 Comedy, Martial Arts, Slice of Life   \n",
       "12153                                              Music   \n",
       "3746                                       Sci-Fi, Drama   \n",
       "7934                                     Hentai, Romance   \n",
       "16584                     Slice of Life, Comedy, Fantasy   \n",
       "14277                                        Music, Kids   \n",
       "808    Action, Adventure, Comedy, Fantasy, Sci-Fi, Sh...   \n",
       "\n",
       "                        English name                  Japanese name   Type  \\\n",
       "17489                  Dragon Agents                           夜刑侠影    ONA   \n",
       "5714                         Unknown                   少女戦機 ソウルイーター    OVA   \n",
       "13346               Harukana Receive                       はるかなレシーブ     TV   \n",
       "8466                         Unknown           忍者ハットリくん ニンニン忍法絵日記の巻  Movie   \n",
       "12153                        Unknown                            夜想曲  Music   \n",
       "3746                         Unknown                  七都市物語 ～北極海戦線～    OVA   \n",
       "7934                         Unknown  恋騎士 Purely☆Kiss The Animation    OVA   \n",
       "16584                        Unknown        おしえて北斎！ -THE ANIMATION-    ONA   \n",
       "14277                        Unknown                          忘れないよ  Music   \n",
       "808    Dragon Ball:The Path to Power                  ドラゴンボール 最強への道  Movie   \n",
       "\n",
       "      Episodes                         Aired    Premiered  ... Score-10  \\\n",
       "17489  Unknown                       Unknown      Unknown  ...  Unknown   \n",
       "5714         1                  Sep 24, 2010      Unknown  ...    296.0   \n",
       "13346       12   Jul 6, 2018 to Sep 21, 2018  Summer 2018  ...   1097.0   \n",
       "8466         1                  Mar 13, 1982      Unknown  ...     15.0   \n",
       "12153        1                   Jan 4, 2011      Unknown  ...      7.0   \n",
       "3746         2                  Jun 22, 1994      Unknown  ...     18.0   \n",
       "7934         2  Jul 26, 2013 to Feb 28, 2014      Unknown  ...    654.0   \n",
       "16584       10   Mar 7, 2021 to Mar 14, 2021      Unknown  ...  Unknown   \n",
       "14277        1                   Feb 1, 2018      Unknown  ...      5.0   \n",
       "808          1                   Mar 2, 1996      Unknown  ...   2563.0   \n",
       "\n",
       "       Score-9  Score-8  Score-7  Score-6  Score-5  Score-4  Score-3  Score-2  \\\n",
       "17489  Unknown  Unknown  Unknown  Unknown  Unknown  Unknown  Unknown  Unknown   \n",
       "5714     231.0    428.0    543.0    458.0    330.0    176.0     81.0     82.0   \n",
       "13346   1881.0   5034.0   9955.0   7310.0   3878.0   1441.0    570.0    237.0   \n",
       "8466       2.0     15.0     28.0     40.0     32.0      9.0      4.0      1.0   \n",
       "12153  Unknown      6.0     14.0     22.0     27.0     11.0      7.0      4.0   \n",
       "3746      29.0     92.0    212.0    166.0    138.0     51.0     19.0     10.0   \n",
       "7934     575.0   1069.0   1213.0    690.0    373.0    129.0     86.0     55.0   \n",
       "16584  Unknown  Unknown      1.0      2.0      1.0      1.0  Unknown  Unknown   \n",
       "14277      1.0      4.0      9.0      8.0     11.0      3.0      3.0      1.0   \n",
       "808     2260.0   4956.0   7691.0   4403.0   2161.0    597.0    214.0     88.0   \n",
       "\n",
       "       Score-1  \n",
       "17489  Unknown  \n",
       "5714     102.0  \n",
       "13346    162.0  \n",
       "8466       6.0  \n",
       "12153      5.0  \n",
       "3746       5.0  \n",
       "7934      60.0  \n",
       "16584  Unknown  \n",
       "14277      4.0  \n",
       "808       85.0  \n",
       "\n",
       "[10 rows x 35 columns]"
      ]
     },
     "execution_count": 53,
     "metadata": {},
     "output_type": "execute_result"
    }
   ],
   "source": [
    "anime_df.sample(10)"
   ]
  },
  {
   "cell_type": "code",
   "execution_count": 54,
   "metadata": {},
   "outputs": [
    {
     "name": "stdout",
     "output_type": "stream",
     "text": [
      "<class 'pandas.core.frame.DataFrame'>\n",
      "RangeIndex: 17562 entries, 0 to 17561\n",
      "Data columns (total 35 columns):\n",
      " #   Column         Non-Null Count  Dtype \n",
      "---  ------         --------------  ----- \n",
      " 0   MAL_ID         17562 non-null  int64 \n",
      " 1   Name           17562 non-null  object\n",
      " 2   Score          17562 non-null  object\n",
      " 3   Genres         17562 non-null  object\n",
      " 4   English name   17562 non-null  object\n",
      " 5   Japanese name  17562 non-null  object\n",
      " 6   Type           17562 non-null  object\n",
      " 7   Episodes       17562 non-null  object\n",
      " 8   Aired          17562 non-null  object\n",
      " 9   Premiered      17562 non-null  object\n",
      " 10  Producers      17562 non-null  object\n",
      " 11  Licensors      17562 non-null  object\n",
      " 12  Studios        17562 non-null  object\n",
      " 13  Source         17562 non-null  object\n",
      " 14  Duration       17562 non-null  object\n",
      " 15  Rating         17562 non-null  object\n",
      " 16  Ranked         17562 non-null  object\n",
      " 17  Popularity     17562 non-null  int64 \n",
      " 18  Members        17562 non-null  int64 \n",
      " 19  Favorites      17562 non-null  int64 \n",
      " 20  Watching       17562 non-null  int64 \n",
      " 21  Completed      17562 non-null  int64 \n",
      " 22  On-Hold        17562 non-null  int64 \n",
      " 23  Dropped        17562 non-null  int64 \n",
      " 24  Plan to Watch  17562 non-null  int64 \n",
      " 25  Score-10       17562 non-null  object\n",
      " 26  Score-9        17562 non-null  object\n",
      " 27  Score-8        17562 non-null  object\n",
      " 28  Score-7        17562 non-null  object\n",
      " 29  Score-6        17562 non-null  object\n",
      " 30  Score-5        17562 non-null  object\n",
      " 31  Score-4        17562 non-null  object\n",
      " 32  Score-3        17562 non-null  object\n",
      " 33  Score-2        17562 non-null  object\n",
      " 34  Score-1        17562 non-null  object\n",
      "dtypes: int64(9), object(26)\n",
      "memory usage: 4.7+ MB\n"
     ]
    }
   ],
   "source": [
    "anime_df.info()"
   ]
  },
  {
   "cell_type": "code",
   "execution_count": 55,
   "metadata": {},
   "outputs": [
    {
     "data": {
      "text/plain": [
       "0"
      ]
     },
     "execution_count": 55,
     "metadata": {},
     "output_type": "execute_result"
    }
   ],
   "source": [
    "anime_df.isna().sum().sum()"
   ]
  },
  {
   "cell_type": "markdown",
   "metadata": {},
   "source": [
    "#### Exploration on rating_complete.csv"
   ]
  },
  {
   "cell_type": "code",
   "execution_count": 56,
   "metadata": {},
   "outputs": [
    {
     "data": {
      "text/plain": [
       "(57633278, 3)"
      ]
     },
     "execution_count": 56,
     "metadata": {},
     "output_type": "execute_result"
    }
   ],
   "source": [
    "ratings_df = pd.read_csv(\"rating_complete.csv\")\n",
    "ratings_df.shape"
   ]
  },
  {
   "cell_type": "code",
   "execution_count": 57,
   "metadata": {},
   "outputs": [
    {
     "data": {
      "text/html": [
       "<div>\n",
       "<style scoped>\n",
       "    .dataframe tbody tr th:only-of-type {\n",
       "        vertical-align: middle;\n",
       "    }\n",
       "\n",
       "    .dataframe tbody tr th {\n",
       "        vertical-align: top;\n",
       "    }\n",
       "\n",
       "    .dataframe thead th {\n",
       "        text-align: right;\n",
       "    }\n",
       "</style>\n",
       "<table border=\"1\" class=\"dataframe\">\n",
       "  <thead>\n",
       "    <tr style=\"text-align: right;\">\n",
       "      <th></th>\n",
       "      <th>user_id</th>\n",
       "      <th>anime_id</th>\n",
       "      <th>rating</th>\n",
       "    </tr>\n",
       "  </thead>\n",
       "  <tbody>\n",
       "    <tr>\n",
       "      <th>8335786</th>\n",
       "      <td>51099</td>\n",
       "      <td>30</td>\n",
       "      <td>7</td>\n",
       "    </tr>\n",
       "    <tr>\n",
       "      <th>4791213</th>\n",
       "      <td>29363</td>\n",
       "      <td>6811</td>\n",
       "      <td>7</td>\n",
       "    </tr>\n",
       "    <tr>\n",
       "      <th>36056263</th>\n",
       "      <td>221269</td>\n",
       "      <td>12549</td>\n",
       "      <td>6</td>\n",
       "    </tr>\n",
       "    <tr>\n",
       "      <th>23986874</th>\n",
       "      <td>147519</td>\n",
       "      <td>17895</td>\n",
       "      <td>8</td>\n",
       "    </tr>\n",
       "    <tr>\n",
       "      <th>35188512</th>\n",
       "      <td>215906</td>\n",
       "      <td>4181</td>\n",
       "      <td>9</td>\n",
       "    </tr>\n",
       "    <tr>\n",
       "      <th>5868584</th>\n",
       "      <td>35996</td>\n",
       "      <td>30831</td>\n",
       "      <td>10</td>\n",
       "    </tr>\n",
       "    <tr>\n",
       "      <th>33717879</th>\n",
       "      <td>207079</td>\n",
       "      <td>223</td>\n",
       "      <td>9</td>\n",
       "    </tr>\n",
       "    <tr>\n",
       "      <th>29914219</th>\n",
       "      <td>184034</td>\n",
       "      <td>11703</td>\n",
       "      <td>7</td>\n",
       "    </tr>\n",
       "    <tr>\n",
       "      <th>5460828</th>\n",
       "      <td>33457</td>\n",
       "      <td>11577</td>\n",
       "      <td>7</td>\n",
       "    </tr>\n",
       "    <tr>\n",
       "      <th>56270806</th>\n",
       "      <td>345011</td>\n",
       "      <td>18441</td>\n",
       "      <td>7</td>\n",
       "    </tr>\n",
       "  </tbody>\n",
       "</table>\n",
       "</div>"
      ],
      "text/plain": [
       "          user_id  anime_id  rating\n",
       "8335786     51099        30       7\n",
       "4791213     29363      6811       7\n",
       "36056263   221269     12549       6\n",
       "23986874   147519     17895       8\n",
       "35188512   215906      4181       9\n",
       "5868584     35996     30831      10\n",
       "33717879   207079       223       9\n",
       "29914219   184034     11703       7\n",
       "5460828     33457     11577       7\n",
       "56270806   345011     18441       7"
      ]
     },
     "execution_count": 57,
     "metadata": {},
     "output_type": "execute_result"
    }
   ],
   "source": [
    "ratings_df.sample(10)"
   ]
  },
  {
   "cell_type": "code",
   "execution_count": 58,
   "metadata": {},
   "outputs": [
    {
     "name": "stdout",
     "output_type": "stream",
     "text": [
      "<class 'pandas.core.frame.DataFrame'>\n",
      "RangeIndex: 57633278 entries, 0 to 57633277\n",
      "Data columns (total 3 columns):\n",
      " #   Column    Dtype\n",
      "---  ------    -----\n",
      " 0   user_id   int64\n",
      " 1   anime_id  int64\n",
      " 2   rating    int64\n",
      "dtypes: int64(3)\n",
      "memory usage: 1.3 GB\n"
     ]
    }
   ],
   "source": [
    "ratings_df.info()"
   ]
  },
  {
   "cell_type": "code",
   "execution_count": 59,
   "metadata": {},
   "outputs": [
    {
     "data": {
      "text/plain": [
       "0"
      ]
     },
     "execution_count": 59,
     "metadata": {},
     "output_type": "execute_result"
    }
   ],
   "source": [
    "ratings_df.isna().sum().sum()"
   ]
  },
  {
   "cell_type": "code",
   "execution_count": 60,
   "metadata": {},
   "outputs": [
    {
     "data": {
      "text/plain": [
       "8.0"
      ]
     },
     "execution_count": 60,
     "metadata": {},
     "output_type": "execute_result"
    }
   ],
   "source": [
    "ratings_df[\"rating\"].median()"
   ]
  },
  {
   "cell_type": "markdown",
   "metadata": {},
   "source": [
    "### 2. Address missing data, handle missing data, and justify the chosen method"
   ]
  },
  {
   "cell_type": "markdown",
   "metadata": {},
   "source": [
    "#### Missing data for 'anime.csv'"
   ]
  },
  {
   "cell_type": "code",
   "execution_count": 61,
   "metadata": {},
   "outputs": [
    {
     "data": {
      "text/html": [
       "<div>\n",
       "<style scoped>\n",
       "    .dataframe tbody tr th:only-of-type {\n",
       "        vertical-align: middle;\n",
       "    }\n",
       "\n",
       "    .dataframe tbody tr th {\n",
       "        vertical-align: top;\n",
       "    }\n",
       "\n",
       "    .dataframe thead th {\n",
       "        text-align: right;\n",
       "    }\n",
       "</style>\n",
       "<table border=\"1\" class=\"dataframe\">\n",
       "  <thead>\n",
       "    <tr style=\"text-align: right;\">\n",
       "      <th></th>\n",
       "      <th>MAL_ID</th>\n",
       "      <th>Name</th>\n",
       "      <th>Score</th>\n",
       "      <th>Genres</th>\n",
       "      <th>Popularity</th>\n",
       "    </tr>\n",
       "  </thead>\n",
       "  <tbody>\n",
       "    <tr>\n",
       "      <th>0</th>\n",
       "      <td>1</td>\n",
       "      <td>Cowboy Bebop</td>\n",
       "      <td>8.78</td>\n",
       "      <td>Action, Adventure, Comedy, Drama, Sci-Fi, Space</td>\n",
       "      <td>39</td>\n",
       "    </tr>\n",
       "    <tr>\n",
       "      <th>1</th>\n",
       "      <td>5</td>\n",
       "      <td>Cowboy Bebop: Tengoku no Tobira</td>\n",
       "      <td>8.39</td>\n",
       "      <td>Action, Drama, Mystery, Sci-Fi, Space</td>\n",
       "      <td>518</td>\n",
       "    </tr>\n",
       "    <tr>\n",
       "      <th>2</th>\n",
       "      <td>6</td>\n",
       "      <td>Trigun</td>\n",
       "      <td>8.24</td>\n",
       "      <td>Action, Sci-Fi, Adventure, Comedy, Drama, Shounen</td>\n",
       "      <td>201</td>\n",
       "    </tr>\n",
       "    <tr>\n",
       "      <th>3</th>\n",
       "      <td>7</td>\n",
       "      <td>Witch Hunter Robin</td>\n",
       "      <td>7.27</td>\n",
       "      <td>Action, Mystery, Police, Supernatural, Drama, ...</td>\n",
       "      <td>1467</td>\n",
       "    </tr>\n",
       "    <tr>\n",
       "      <th>4</th>\n",
       "      <td>8</td>\n",
       "      <td>Bouken Ou Beet</td>\n",
       "      <td>6.98</td>\n",
       "      <td>Adventure, Fantasy, Shounen, Supernatural</td>\n",
       "      <td>4369</td>\n",
       "    </tr>\n",
       "    <tr>\n",
       "      <th>...</th>\n",
       "      <td>...</td>\n",
       "      <td>...</td>\n",
       "      <td>...</td>\n",
       "      <td>...</td>\n",
       "      <td>...</td>\n",
       "    </tr>\n",
       "    <tr>\n",
       "      <th>17557</th>\n",
       "      <td>48481</td>\n",
       "      <td>Daomu Biji Zhi Qinling Shen Shu</td>\n",
       "      <td>Unknown</td>\n",
       "      <td>Adventure, Mystery, Supernatural</td>\n",
       "      <td>13116</td>\n",
       "    </tr>\n",
       "    <tr>\n",
       "      <th>17558</th>\n",
       "      <td>48483</td>\n",
       "      <td>Mieruko-chan</td>\n",
       "      <td>Unknown</td>\n",
       "      <td>Comedy, Horror, Supernatural</td>\n",
       "      <td>17562</td>\n",
       "    </tr>\n",
       "    <tr>\n",
       "      <th>17559</th>\n",
       "      <td>48488</td>\n",
       "      <td>Higurashi no Naku Koro ni Sotsu</td>\n",
       "      <td>Unknown</td>\n",
       "      <td>Mystery, Dementia, Horror, Psychological, Supe...</td>\n",
       "      <td>17558</td>\n",
       "    </tr>\n",
       "    <tr>\n",
       "      <th>17560</th>\n",
       "      <td>48491</td>\n",
       "      <td>Yama no Susume: Next Summit</td>\n",
       "      <td>Unknown</td>\n",
       "      <td>Adventure, Slice of Life, Comedy</td>\n",
       "      <td>17565</td>\n",
       "    </tr>\n",
       "    <tr>\n",
       "      <th>17561</th>\n",
       "      <td>48492</td>\n",
       "      <td>Scarlet Nexus</td>\n",
       "      <td>Unknown</td>\n",
       "      <td>Action, Fantasy</td>\n",
       "      <td>17563</td>\n",
       "    </tr>\n",
       "  </tbody>\n",
       "</table>\n",
       "<p>17562 rows × 5 columns</p>\n",
       "</div>"
      ],
      "text/plain": [
       "       MAL_ID                             Name    Score  \\\n",
       "0           1                     Cowboy Bebop     8.78   \n",
       "1           5  Cowboy Bebop: Tengoku no Tobira     8.39   \n",
       "2           6                           Trigun     8.24   \n",
       "3           7               Witch Hunter Robin     7.27   \n",
       "4           8                   Bouken Ou Beet     6.98   \n",
       "...       ...                              ...      ...   \n",
       "17557   48481  Daomu Biji Zhi Qinling Shen Shu  Unknown   \n",
       "17558   48483                     Mieruko-chan  Unknown   \n",
       "17559   48488  Higurashi no Naku Koro ni Sotsu  Unknown   \n",
       "17560   48491      Yama no Susume: Next Summit  Unknown   \n",
       "17561   48492                    Scarlet Nexus  Unknown   \n",
       "\n",
       "                                                  Genres  Popularity  \n",
       "0        Action, Adventure, Comedy, Drama, Sci-Fi, Space          39  \n",
       "1                  Action, Drama, Mystery, Sci-Fi, Space         518  \n",
       "2      Action, Sci-Fi, Adventure, Comedy, Drama, Shounen         201  \n",
       "3      Action, Mystery, Police, Supernatural, Drama, ...        1467  \n",
       "4              Adventure, Fantasy, Shounen, Supernatural        4369  \n",
       "...                                                  ...         ...  \n",
       "17557                   Adventure, Mystery, Supernatural       13116  \n",
       "17558                       Comedy, Horror, Supernatural       17562  \n",
       "17559  Mystery, Dementia, Horror, Psychological, Supe...       17558  \n",
       "17560                   Adventure, Slice of Life, Comedy       17565  \n",
       "17561                                    Action, Fantasy       17563  \n",
       "\n",
       "[17562 rows x 5 columns]"
      ]
     },
     "execution_count": 61,
     "metadata": {},
     "output_type": "execute_result"
    }
   ],
   "source": [
    "# First only get columns that we need\n",
    "anime_df = anime_df[[\"MAL_ID\", \"Name\", \"Score\", \"Genres\", \"Popularity\"]]\n",
    "anime_df"
   ]
  },
  {
   "cell_type": "code",
   "execution_count": 62,
   "metadata": {},
   "outputs": [
    {
     "name": "stdout",
     "output_type": "stream",
     "text": [
      "Shape before: (17562, 5)\n",
      "Shape after: (17499, 5)\n"
     ]
    },
    {
     "data": {
      "text/html": [
       "<div>\n",
       "<style scoped>\n",
       "    .dataframe tbody tr th:only-of-type {\n",
       "        vertical-align: middle;\n",
       "    }\n",
       "\n",
       "    .dataframe tbody tr th {\n",
       "        vertical-align: top;\n",
       "    }\n",
       "\n",
       "    .dataframe thead th {\n",
       "        text-align: right;\n",
       "    }\n",
       "</style>\n",
       "<table border=\"1\" class=\"dataframe\">\n",
       "  <thead>\n",
       "    <tr style=\"text-align: right;\">\n",
       "      <th></th>\n",
       "      <th>MAL_ID</th>\n",
       "      <th>Name</th>\n",
       "      <th>Score</th>\n",
       "      <th>Genres</th>\n",
       "      <th>Popularity</th>\n",
       "    </tr>\n",
       "  </thead>\n",
       "  <tbody>\n",
       "    <tr>\n",
       "      <th>0</th>\n",
       "      <td>1</td>\n",
       "      <td>Cowboy Bebop</td>\n",
       "      <td>8.78</td>\n",
       "      <td>Action, Adventure, Comedy, Drama, Sci-Fi, Space</td>\n",
       "      <td>39</td>\n",
       "    </tr>\n",
       "    <tr>\n",
       "      <th>1</th>\n",
       "      <td>5</td>\n",
       "      <td>Cowboy Bebop: Tengoku no Tobira</td>\n",
       "      <td>8.39</td>\n",
       "      <td>Action, Drama, Mystery, Sci-Fi, Space</td>\n",
       "      <td>518</td>\n",
       "    </tr>\n",
       "    <tr>\n",
       "      <th>2</th>\n",
       "      <td>6</td>\n",
       "      <td>Trigun</td>\n",
       "      <td>8.24</td>\n",
       "      <td>Action, Sci-Fi, Adventure, Comedy, Drama, Shounen</td>\n",
       "      <td>201</td>\n",
       "    </tr>\n",
       "    <tr>\n",
       "      <th>3</th>\n",
       "      <td>7</td>\n",
       "      <td>Witch Hunter Robin</td>\n",
       "      <td>7.27</td>\n",
       "      <td>Action, Mystery, Police, Supernatural, Drama, ...</td>\n",
       "      <td>1467</td>\n",
       "    </tr>\n",
       "    <tr>\n",
       "      <th>4</th>\n",
       "      <td>8</td>\n",
       "      <td>Bouken Ou Beet</td>\n",
       "      <td>6.98</td>\n",
       "      <td>Adventure, Fantasy, Shounen, Supernatural</td>\n",
       "      <td>4369</td>\n",
       "    </tr>\n",
       "    <tr>\n",
       "      <th>...</th>\n",
       "      <td>...</td>\n",
       "      <td>...</td>\n",
       "      <td>...</td>\n",
       "      <td>...</td>\n",
       "      <td>...</td>\n",
       "    </tr>\n",
       "    <tr>\n",
       "      <th>17557</th>\n",
       "      <td>48481</td>\n",
       "      <td>Daomu Biji Zhi Qinling Shen Shu</td>\n",
       "      <td>0</td>\n",
       "      <td>Adventure, Mystery, Supernatural</td>\n",
       "      <td>13116</td>\n",
       "    </tr>\n",
       "    <tr>\n",
       "      <th>17558</th>\n",
       "      <td>48483</td>\n",
       "      <td>Mieruko-chan</td>\n",
       "      <td>0</td>\n",
       "      <td>Comedy, Horror, Supernatural</td>\n",
       "      <td>17562</td>\n",
       "    </tr>\n",
       "    <tr>\n",
       "      <th>17559</th>\n",
       "      <td>48488</td>\n",
       "      <td>Higurashi no Naku Koro ni Sotsu</td>\n",
       "      <td>0</td>\n",
       "      <td>Mystery, Dementia, Horror, Psychological, Supe...</td>\n",
       "      <td>17558</td>\n",
       "    </tr>\n",
       "    <tr>\n",
       "      <th>17560</th>\n",
       "      <td>48491</td>\n",
       "      <td>Yama no Susume: Next Summit</td>\n",
       "      <td>0</td>\n",
       "      <td>Adventure, Slice of Life, Comedy</td>\n",
       "      <td>17565</td>\n",
       "    </tr>\n",
       "    <tr>\n",
       "      <th>17561</th>\n",
       "      <td>48492</td>\n",
       "      <td>Scarlet Nexus</td>\n",
       "      <td>0</td>\n",
       "      <td>Action, Fantasy</td>\n",
       "      <td>17563</td>\n",
       "    </tr>\n",
       "  </tbody>\n",
       "</table>\n",
       "<p>17499 rows × 5 columns</p>\n",
       "</div>"
      ],
      "text/plain": [
       "       MAL_ID                             Name Score  \\\n",
       "0           1                     Cowboy Bebop  8.78   \n",
       "1           5  Cowboy Bebop: Tengoku no Tobira  8.39   \n",
       "2           6                           Trigun  8.24   \n",
       "3           7               Witch Hunter Robin  7.27   \n",
       "4           8                   Bouken Ou Beet  6.98   \n",
       "...       ...                              ...   ...   \n",
       "17557   48481  Daomu Biji Zhi Qinling Shen Shu     0   \n",
       "17558   48483                     Mieruko-chan     0   \n",
       "17559   48488  Higurashi no Naku Koro ni Sotsu     0   \n",
       "17560   48491      Yama no Susume: Next Summit     0   \n",
       "17561   48492                    Scarlet Nexus     0   \n",
       "\n",
       "                                                  Genres  Popularity  \n",
       "0        Action, Adventure, Comedy, Drama, Sci-Fi, Space          39  \n",
       "1                  Action, Drama, Mystery, Sci-Fi, Space         518  \n",
       "2      Action, Sci-Fi, Adventure, Comedy, Drama, Shounen         201  \n",
       "3      Action, Mystery, Police, Supernatural, Drama, ...        1467  \n",
       "4              Adventure, Fantasy, Shounen, Supernatural        4369  \n",
       "...                                                  ...         ...  \n",
       "17557                   Adventure, Mystery, Supernatural       13116  \n",
       "17558                       Comedy, Horror, Supernatural       17562  \n",
       "17559  Mystery, Dementia, Horror, Psychological, Supe...       17558  \n",
       "17560                   Adventure, Slice of Life, Comedy       17565  \n",
       "17561                                    Action, Fantasy       17563  \n",
       "\n",
       "[17499 rows x 5 columns]"
      ]
     },
     "execution_count": 62,
     "metadata": {},
     "output_type": "execute_result"
    }
   ],
   "source": [
    "# Null values are called \"unknown\" and only are in the \"score\" and \"genres\" column\n",
    "print(\"Shape before:\", anime_df.shape)\n",
    "anime_df[\"Score\"].replace(\"Unknown\", 0, inplace=True)\n",
    "anime_df.drop(anime_df[anime_df[\"Genres\"] == \"Unknown\"].index, inplace=True)\n",
    "print(\"Shape after:\", anime_df.shape)\n",
    "anime_df"
   ]
  },
  {
   "cell_type": "code",
   "execution_count": 63,
   "metadata": {},
   "outputs": [
    {
     "name": "stdout",
     "output_type": "stream",
     "text": [
      "<class 'pandas.core.frame.DataFrame'>\n",
      "Index: 17499 entries, 0 to 17561\n",
      "Data columns (total 5 columns):\n",
      " #   Column      Non-Null Count  Dtype  \n",
      "---  ------      --------------  -----  \n",
      " 0   MAL_ID      17499 non-null  int64  \n",
      " 1   Name        17499 non-null  object \n",
      " 2   Score       17499 non-null  Float64\n",
      " 3   Genres      17499 non-null  object \n",
      " 4   Popularity  17499 non-null  int64  \n",
      "dtypes: Float64(1), int64(2), object(2)\n",
      "memory usage: 837.4+ KB\n"
     ]
    }
   ],
   "source": [
    "anime_df[\"Score\"] = anime_df[\"Score\"].astype(\"Float64\")\n",
    "anime_df[\"Popularity\"] = anime_df[\"Popularity\"].astype(\"int64\")\n",
    "anime_df.info()"
   ]
  },
  {
   "cell_type": "markdown",
   "metadata": {},
   "source": [
    "In the dataframe, the entries that do not have a value are labelled as \"Unknown\". Only two columns contain \"Unknown\" values: the \"Score\" column and the \"Genres\" column. For the scores column, I decided to replace the rows with an \"Unknown\" rating with a rating of 0. This keeps the information given by the anime with an unknown rating without having to remove the row. It also keeps the column free of strings. However, for the \"Genres\" column, I decided to drop the rows that have unknown genres. This is because without a genre, the row does not give any information for the anime for content based filtering. That is why I decided to drop the rows that did not have a genre."
   ]
  },
  {
   "cell_type": "markdown",
   "metadata": {},
   "source": [
    "#### Missing data for 'ratings_complete.csv'"
   ]
  },
  {
   "cell_type": "code",
   "execution_count": 64,
   "metadata": {},
   "outputs": [
    {
     "name": "stdout",
     "output_type": "stream",
     "text": [
      "0\n",
      "0\n",
      "0\n"
     ]
    }
   ],
   "source": [
    "print(len(ratings_df[ratings_df[\"user_id\"] == \"Unknown\"]))\n",
    "print(len(ratings_df[ratings_df[\"anime_id\"] == \"Unknown\"]))\n",
    "print(len(ratings_df[ratings_df[\"rating\"] == \"Unknown\"]))"
   ]
  },
  {
   "cell_type": "markdown",
   "metadata": {},
   "source": [
    "There are no null values or \"Unknown\" values in the rating dataframe"
   ]
  },
  {
   "cell_type": "markdown",
   "metadata": {},
   "source": [
    "## 3.2 - Outlier Detection"
   ]
  },
  {
   "cell_type": "markdown",
   "metadata": {},
   "source": [
    "### Check for outliers with data visualization and treat them"
   ]
  },
  {
   "cell_type": "markdown",
   "metadata": {},
   "source": [
    "#### anime_df"
   ]
  },
  {
   "cell_type": "code",
   "execution_count": 65,
   "metadata": {},
   "outputs": [
    {
     "data": {
      "image/png": "[encoded data removed]",
      "text/plain": [
       "<Figure size 640x480 with 2 Axes>"
      ]
     },
     "metadata": {},
     "output_type": "display_data"
    }
   ],
   "source": [
    "fig, axes = plt.subplots(nrows=1, ncols=2)\n",
    "anime_df[\"Score\"].plot.box(ax=axes[0])\n",
    "anime_df[\"Popularity\"].plot.box(ax=axes[1])\n",
    "plt.show()"
   ]
  },
  {
   "cell_type": "markdown",
   "metadata": {},
   "source": [
    "There are no outliers in anime_df"
   ]
  },
  {
   "cell_type": "markdown",
   "metadata": {},
   "source": [
    "#### ratings_df"
   ]
  },
  {
   "cell_type": "code",
   "execution_count": 66,
   "metadata": {},
   "outputs": [
    {
     "data": {
      "image/png": "[encoded data removed]",
      "text/plain": [
       "<Figure size 640x480 with 3 Axes>"
      ]
     },
     "metadata": {},
     "output_type": "display_data"
    }
   ],
   "source": [
    "fig, axes = plt.subplots(nrows=1, ncols=3)\n",
    "ratings_df[\"user_id\"].plot.box(ax=axes[0])\n",
    "ratings_df[\"anime_id\"].plot.box(ax=axes[1])\n",
    "ratings_df[\"rating\"].plot.box(ax=axes[2])\n",
    "plt.show()"
   ]
  },
  {
   "cell_type": "code",
   "execution_count": 67,
   "metadata": {},
   "outputs": [
    {
     "data": {
      "image/png": "[encoded data removed]",
      "text/plain": [
       "<Figure size 640x480 with 3 Axes>"
      ]
     },
     "metadata": {},
     "output_type": "display_data"
    }
   ],
   "source": [
    "lower_percentile = 0.05\n",
    "\n",
    "low = ratings_df[\"rating\"].quantile(lower_percentile)\n",
    "series = ratings_df[\"rating\"]\n",
    "series[series < low] = low\n",
    "\n",
    "fig, axes = plt.subplots(nrows=1, ncols=3)\n",
    "ratings_df[\"user_id\"].plot.box(ax=axes[0])\n",
    "ratings_df[\"anime_id\"].plot.box(ax=axes[1])\n",
    "ratings_df[\"rating\"].plot.box(ax=axes[2])\n",
    "plt.show()"
   ]
  },
  {
   "cell_type": "markdown",
   "metadata": {},
   "source": [
    "For ratings_df, there were no outliers in the user_id or anime_id columns. However, there were outliers in the rating column. These outliers were people that scored certain anime a 1, 2, or 3. Since low scores are important to a recommendation system (to not recommend those anime), I decided that I should keep them. I decided to set the lower bound of the scores at the 5th percentile so that I can still keep the data from these outlier scores without having to drop them."
   ]
  },
  {
   "cell_type": "markdown",
   "metadata": {},
   "source": [
    "## 3.3 - Data Quality and Consistency"
   ]
  },
  {
   "cell_type": "markdown",
   "metadata": {},
   "source": [
    "### Check for Duplicate records"
   ]
  },
  {
   "cell_type": "markdown",
   "metadata": {},
   "source": [
    "#### anime_df"
   ]
  },
  {
   "cell_type": "code",
   "execution_count": 68,
   "metadata": {},
   "outputs": [
    {
     "data": {
      "text/plain": [
       "False"
      ]
     },
     "execution_count": 68,
     "metadata": {},
     "output_type": "execute_result"
    }
   ],
   "source": [
    "anime_df[\"MAL_ID\"].duplicated().any()"
   ]
  },
  {
   "cell_type": "markdown",
   "metadata": {},
   "source": [
    "There are no duplicated anime IDs in the dataset. This is the only column we need to check duplicates for since some anime may be named the same, have similar genres, popularity, and scores"
   ]
  },
  {
   "cell_type": "markdown",
   "metadata": {},
   "source": [
    "#### ratings_df"
   ]
  },
  {
   "cell_type": "markdown",
   "metadata": {},
   "source": [
    "It does not make sense to check for duplicates in this dataset because the same user can rate multiple anime, the same anime may be rated by different users, and the same rating may be given to different anime"
   ]
  },
  {
   "cell_type": "markdown",
   "metadata": {},
   "source": [
    "## 3.4 - Data Preparation for Model Training"
   ]
  },
  {
   "cell_type": "markdown",
   "metadata": {},
   "source": [
    "### Prepare datasets for model training"
   ]
  },
  {
   "cell_type": "code",
   "execution_count": 69,
   "metadata": {},
   "outputs": [
    {
     "data": {
      "text/html": [
       "<div>\n",
       "<style scoped>\n",
       "    .dataframe tbody tr th:only-of-type {\n",
       "        vertical-align: middle;\n",
       "    }\n",
       "\n",
       "    .dataframe tbody tr th {\n",
       "        vertical-align: top;\n",
       "    }\n",
       "\n",
       "    .dataframe thead th {\n",
       "        text-align: right;\n",
       "    }\n",
       "</style>\n",
       "<table border=\"1\" class=\"dataframe\">\n",
       "  <thead>\n",
       "    <tr style=\"text-align: right;\">\n",
       "      <th></th>\n",
       "      <th>anime_id</th>\n",
       "      <th>Name</th>\n",
       "      <th>Score</th>\n",
       "      <th>Genres</th>\n",
       "      <th>Popularity</th>\n",
       "    </tr>\n",
       "  </thead>\n",
       "  <tbody>\n",
       "    <tr>\n",
       "      <th>0</th>\n",
       "      <td>1</td>\n",
       "      <td>Cowboy Bebop</td>\n",
       "      <td>8.78</td>\n",
       "      <td>Action, Adventure, Comedy, Drama, Sci-Fi, Space</td>\n",
       "      <td>39</td>\n",
       "    </tr>\n",
       "    <tr>\n",
       "      <th>1</th>\n",
       "      <td>5</td>\n",
       "      <td>Cowboy Bebop: Tengoku no Tobira</td>\n",
       "      <td>8.39</td>\n",
       "      <td>Action, Drama, Mystery, Sci-Fi, Space</td>\n",
       "      <td>518</td>\n",
       "    </tr>\n",
       "    <tr>\n",
       "      <th>2</th>\n",
       "      <td>6</td>\n",
       "      <td>Trigun</td>\n",
       "      <td>8.24</td>\n",
       "      <td>Action, Sci-Fi, Adventure, Comedy, Drama, Shounen</td>\n",
       "      <td>201</td>\n",
       "    </tr>\n",
       "    <tr>\n",
       "      <th>3</th>\n",
       "      <td>7</td>\n",
       "      <td>Witch Hunter Robin</td>\n",
       "      <td>7.27</td>\n",
       "      <td>Action, Mystery, Police, Supernatural, Drama, ...</td>\n",
       "      <td>1467</td>\n",
       "    </tr>\n",
       "    <tr>\n",
       "      <th>4</th>\n",
       "      <td>8</td>\n",
       "      <td>Bouken Ou Beet</td>\n",
       "      <td>6.98</td>\n",
       "      <td>Adventure, Fantasy, Shounen, Supernatural</td>\n",
       "      <td>4369</td>\n",
       "    </tr>\n",
       "    <tr>\n",
       "      <th>...</th>\n",
       "      <td>...</td>\n",
       "      <td>...</td>\n",
       "      <td>...</td>\n",
       "      <td>...</td>\n",
       "      <td>...</td>\n",
       "    </tr>\n",
       "    <tr>\n",
       "      <th>17557</th>\n",
       "      <td>48481</td>\n",
       "      <td>Daomu Biji Zhi Qinling Shen Shu</td>\n",
       "      <td>0.0</td>\n",
       "      <td>Adventure, Mystery, Supernatural</td>\n",
       "      <td>13116</td>\n",
       "    </tr>\n",
       "    <tr>\n",
       "      <th>17558</th>\n",
       "      <td>48483</td>\n",
       "      <td>Mieruko-chan</td>\n",
       "      <td>0.0</td>\n",
       "      <td>Comedy, Horror, Supernatural</td>\n",
       "      <td>17562</td>\n",
       "    </tr>\n",
       "    <tr>\n",
       "      <th>17559</th>\n",
       "      <td>48488</td>\n",
       "      <td>Higurashi no Naku Koro ni Sotsu</td>\n",
       "      <td>0.0</td>\n",
       "      <td>Mystery, Dementia, Horror, Psychological, Supe...</td>\n",
       "      <td>17558</td>\n",
       "    </tr>\n",
       "    <tr>\n",
       "      <th>17560</th>\n",
       "      <td>48491</td>\n",
       "      <td>Yama no Susume: Next Summit</td>\n",
       "      <td>0.0</td>\n",
       "      <td>Adventure, Slice of Life, Comedy</td>\n",
       "      <td>17565</td>\n",
       "    </tr>\n",
       "    <tr>\n",
       "      <th>17561</th>\n",
       "      <td>48492</td>\n",
       "      <td>Scarlet Nexus</td>\n",
       "      <td>0.0</td>\n",
       "      <td>Action, Fantasy</td>\n",
       "      <td>17563</td>\n",
       "    </tr>\n",
       "  </tbody>\n",
       "</table>\n",
       "<p>17499 rows × 5 columns</p>\n",
       "</div>"
      ],
      "text/plain": [
       "       anime_id                             Name  Score  \\\n",
       "0             1                     Cowboy Bebop   8.78   \n",
       "1             5  Cowboy Bebop: Tengoku no Tobira   8.39   \n",
       "2             6                           Trigun   8.24   \n",
       "3             7               Witch Hunter Robin   7.27   \n",
       "4             8                   Bouken Ou Beet   6.98   \n",
       "...         ...                              ...    ...   \n",
       "17557     48481  Daomu Biji Zhi Qinling Shen Shu    0.0   \n",
       "17558     48483                     Mieruko-chan    0.0   \n",
       "17559     48488  Higurashi no Naku Koro ni Sotsu    0.0   \n",
       "17560     48491      Yama no Susume: Next Summit    0.0   \n",
       "17561     48492                    Scarlet Nexus    0.0   \n",
       "\n",
       "                                                  Genres  Popularity  \n",
       "0        Action, Adventure, Comedy, Drama, Sci-Fi, Space          39  \n",
       "1                  Action, Drama, Mystery, Sci-Fi, Space         518  \n",
       "2      Action, Sci-Fi, Adventure, Comedy, Drama, Shounen         201  \n",
       "3      Action, Mystery, Police, Supernatural, Drama, ...        1467  \n",
       "4              Adventure, Fantasy, Shounen, Supernatural        4369  \n",
       "...                                                  ...         ...  \n",
       "17557                   Adventure, Mystery, Supernatural       13116  \n",
       "17558                       Comedy, Horror, Supernatural       17562  \n",
       "17559  Mystery, Dementia, Horror, Psychological, Supe...       17558  \n",
       "17560                   Adventure, Slice of Life, Comedy       17565  \n",
       "17561                                    Action, Fantasy       17563  \n",
       "\n",
       "[17499 rows x 5 columns]"
      ]
     },
     "execution_count": 69,
     "metadata": {},
     "output_type": "execute_result"
    }
   ],
   "source": [
    "anime_df = anime_df.rename(columns={\"MAL_ID\":\"anime_id\"})\n",
    "anime_df"
   ]
  },
  {
   "cell_type": "code",
   "execution_count": 70,
   "metadata": {},
   "outputs": [
    {
     "data": {
      "text/html": [
       "<div>\n",
       "<style scoped>\n",
       "    .dataframe tbody tr th:only-of-type {\n",
       "        vertical-align: middle;\n",
       "    }\n",
       "\n",
       "    .dataframe tbody tr th {\n",
       "        vertical-align: top;\n",
       "    }\n",
       "\n",
       "    .dataframe thead th {\n",
       "        text-align: right;\n",
       "    }\n",
       "</style>\n",
       "<table border=\"1\" class=\"dataframe\">\n",
       "  <thead>\n",
       "    <tr style=\"text-align: right;\">\n",
       "      <th></th>\n",
       "      <th>user_id</th>\n",
       "      <th>anime_id</th>\n",
       "      <th>rating</th>\n",
       "    </tr>\n",
       "  </thead>\n",
       "  <tbody>\n",
       "    <tr>\n",
       "      <th>0</th>\n",
       "      <td>0</td>\n",
       "      <td>430</td>\n",
       "      <td>9</td>\n",
       "    </tr>\n",
       "    <tr>\n",
       "      <th>1</th>\n",
       "      <td>0</td>\n",
       "      <td>1004</td>\n",
       "      <td>5</td>\n",
       "    </tr>\n",
       "    <tr>\n",
       "      <th>2</th>\n",
       "      <td>0</td>\n",
       "      <td>3010</td>\n",
       "      <td>7</td>\n",
       "    </tr>\n",
       "    <tr>\n",
       "      <th>3</th>\n",
       "      <td>0</td>\n",
       "      <td>570</td>\n",
       "      <td>7</td>\n",
       "    </tr>\n",
       "    <tr>\n",
       "      <th>4</th>\n",
       "      <td>0</td>\n",
       "      <td>2762</td>\n",
       "      <td>9</td>\n",
       "    </tr>\n",
       "    <tr>\n",
       "      <th>...</th>\n",
       "      <td>...</td>\n",
       "      <td>...</td>\n",
       "      <td>...</td>\n",
       "    </tr>\n",
       "    <tr>\n",
       "      <th>57633273</th>\n",
       "      <td>353404</td>\n",
       "      <td>502</td>\n",
       "      <td>8</td>\n",
       "    </tr>\n",
       "    <tr>\n",
       "      <th>57633274</th>\n",
       "      <td>353404</td>\n",
       "      <td>987</td>\n",
       "      <td>4</td>\n",
       "    </tr>\n",
       "    <tr>\n",
       "      <th>57633275</th>\n",
       "      <td>353404</td>\n",
       "      <td>225</td>\n",
       "      <td>8</td>\n",
       "    </tr>\n",
       "    <tr>\n",
       "      <th>57633276</th>\n",
       "      <td>353404</td>\n",
       "      <td>243</td>\n",
       "      <td>7</td>\n",
       "    </tr>\n",
       "    <tr>\n",
       "      <th>57633277</th>\n",
       "      <td>353404</td>\n",
       "      <td>896</td>\n",
       "      <td>7</td>\n",
       "    </tr>\n",
       "  </tbody>\n",
       "</table>\n",
       "<p>57633278 rows × 3 columns</p>\n",
       "</div>"
      ],
      "text/plain": [
       "          user_id  anime_id  rating\n",
       "0               0       430       9\n",
       "1               0      1004       5\n",
       "2               0      3010       7\n",
       "3               0       570       7\n",
       "4               0      2762       9\n",
       "...           ...       ...     ...\n",
       "57633273   353404       502       8\n",
       "57633274   353404       987       4\n",
       "57633275   353404       225       8\n",
       "57633276   353404       243       7\n",
       "57633277   353404       896       7\n",
       "\n",
       "[57633278 rows x 3 columns]"
      ]
     },
     "execution_count": 70,
     "metadata": {},
     "output_type": "execute_result"
    }
   ],
   "source": [
    "ratings_df"
   ]
  },
  {
   "cell_type": "code",
   "execution_count": 71,
   "metadata": {},
   "outputs": [
    {
     "data": {
      "text/html": [
       "<div>\n",
       "<style scoped>\n",
       "    .dataframe tbody tr th:only-of-type {\n",
       "        vertical-align: middle;\n",
       "    }\n",
       "\n",
       "    .dataframe tbody tr th {\n",
       "        vertical-align: top;\n",
       "    }\n",
       "\n",
       "    .dataframe thead th {\n",
       "        text-align: right;\n",
       "    }\n",
       "</style>\n",
       "<table border=\"1\" class=\"dataframe\">\n",
       "  <thead>\n",
       "    <tr style=\"text-align: right;\">\n",
       "      <th></th>\n",
       "      <th>user_id</th>\n",
       "      <th>anime_id</th>\n",
       "      <th>rating</th>\n",
       "      <th>Name</th>\n",
       "      <th>Score</th>\n",
       "      <th>Genres</th>\n",
       "      <th>Popularity</th>\n",
       "    </tr>\n",
       "  </thead>\n",
       "  <tbody>\n",
       "    <tr>\n",
       "      <th>0</th>\n",
       "      <td>0</td>\n",
       "      <td>430</td>\n",
       "      <td>9</td>\n",
       "      <td>Fullmetal Alchemist: The Conqueror of Shamballa</td>\n",
       "      <td>7.57</td>\n",
       "      <td>Military, Comedy, Historical, Drama, Fantasy, ...</td>\n",
       "      <td>506</td>\n",
       "    </tr>\n",
       "    <tr>\n",
       "      <th>1</th>\n",
       "      <td>6</td>\n",
       "      <td>430</td>\n",
       "      <td>8</td>\n",
       "      <td>Fullmetal Alchemist: The Conqueror of Shamballa</td>\n",
       "      <td>7.57</td>\n",
       "      <td>Military, Comedy, Historical, Drama, Fantasy, ...</td>\n",
       "      <td>506</td>\n",
       "    </tr>\n",
       "    <tr>\n",
       "      <th>2</th>\n",
       "      <td>18</td>\n",
       "      <td>430</td>\n",
       "      <td>10</td>\n",
       "      <td>Fullmetal Alchemist: The Conqueror of Shamballa</td>\n",
       "      <td>7.57</td>\n",
       "      <td>Military, Comedy, Historical, Drama, Fantasy, ...</td>\n",
       "      <td>506</td>\n",
       "    </tr>\n",
       "    <tr>\n",
       "      <th>3</th>\n",
       "      <td>19</td>\n",
       "      <td>430</td>\n",
       "      <td>8</td>\n",
       "      <td>Fullmetal Alchemist: The Conqueror of Shamballa</td>\n",
       "      <td>7.57</td>\n",
       "      <td>Military, Comedy, Historical, Drama, Fantasy, ...</td>\n",
       "      <td>506</td>\n",
       "    </tr>\n",
       "    <tr>\n",
       "      <th>4</th>\n",
       "      <td>33</td>\n",
       "      <td>430</td>\n",
       "      <td>4</td>\n",
       "      <td>Fullmetal Alchemist: The Conqueror of Shamballa</td>\n",
       "      <td>7.57</td>\n",
       "      <td>Military, Comedy, Historical, Drama, Fantasy, ...</td>\n",
       "      <td>506</td>\n",
       "    </tr>\n",
       "    <tr>\n",
       "      <th>...</th>\n",
       "      <td>...</td>\n",
       "      <td>...</td>\n",
       "      <td>...</td>\n",
       "      <td>...</td>\n",
       "      <td>...</td>\n",
       "      <td>...</td>\n",
       "      <td>...</td>\n",
       "    </tr>\n",
       "    <tr>\n",
       "      <th>57629739</th>\n",
       "      <td>315549</td>\n",
       "      <td>38853</td>\n",
       "      <td>4</td>\n",
       "      <td>Ex-Arm</td>\n",
       "      <td>2.18</td>\n",
       "      <td>Action, Sci-Fi, Ecchi, Seinen</td>\n",
       "      <td>2350</td>\n",
       "    </tr>\n",
       "    <tr>\n",
       "      <th>57629740</th>\n",
       "      <td>350024</td>\n",
       "      <td>38853</td>\n",
       "      <td>10</td>\n",
       "      <td>Ex-Arm</td>\n",
       "      <td>2.18</td>\n",
       "      <td>Action, Sci-Fi, Ecchi, Seinen</td>\n",
       "      <td>2350</td>\n",
       "    </tr>\n",
       "    <tr>\n",
       "      <th>57629741</th>\n",
       "      <td>311855</td>\n",
       "      <td>39435</td>\n",
       "      <td>6</td>\n",
       "      <td>Oshiri Tantei Movie 1: Curry Naru Jiken</td>\n",
       "      <td>0.0</td>\n",
       "      <td>Mystery, Comedy, Kids, Fantasy</td>\n",
       "      <td>16923</td>\n",
       "    </tr>\n",
       "    <tr>\n",
       "      <th>57629742</th>\n",
       "      <td>334473</td>\n",
       "      <td>35746</td>\n",
       "      <td>4</td>\n",
       "      <td>6 Lovers</td>\n",
       "      <td>0.0</td>\n",
       "      <td>Comedy, Drama, Romance, School, Shounen Ai, Sl...</td>\n",
       "      <td>4637</td>\n",
       "    </tr>\n",
       "    <tr>\n",
       "      <th>57629743</th>\n",
       "      <td>347134</td>\n",
       "      <td>39627</td>\n",
       "      <td>5</td>\n",
       "      <td>Nan-chan no Koutsuu Anzen</td>\n",
       "      <td>0.0</td>\n",
       "      <td>Kids</td>\n",
       "      <td>17449</td>\n",
       "    </tr>\n",
       "  </tbody>\n",
       "</table>\n",
       "<p>57629744 rows × 7 columns</p>\n",
       "</div>"
      ],
      "text/plain": [
       "         user_id  anime_id  rating  \\\n",
       "0              0       430       9   \n",
       "1              6       430       8   \n",
       "2             18       430      10   \n",
       "3             19       430       8   \n",
       "4             33       430       4   \n",
       "...          ...       ...     ...   \n",
       "57629739  315549     38853       4   \n",
       "57629740  350024     38853      10   \n",
       "57629741  311855     39435       6   \n",
       "57629742  334473     35746       4   \n",
       "57629743  347134     39627       5   \n",
       "\n",
       "                                                     Name  Score  \\\n",
       "0         Fullmetal Alchemist: The Conqueror of Shamballa   7.57   \n",
       "1         Fullmetal Alchemist: The Conqueror of Shamballa   7.57   \n",
       "2         Fullmetal Alchemist: The Conqueror of Shamballa   7.57   \n",
       "3         Fullmetal Alchemist: The Conqueror of Shamballa   7.57   \n",
       "4         Fullmetal Alchemist: The Conqueror of Shamballa   7.57   \n",
       "...                                                   ...    ...   \n",
       "57629739                                           Ex-Arm   2.18   \n",
       "57629740                                           Ex-Arm   2.18   \n",
       "57629741          Oshiri Tantei Movie 1: Curry Naru Jiken    0.0   \n",
       "57629742                                         6 Lovers    0.0   \n",
       "57629743                        Nan-chan no Koutsuu Anzen    0.0   \n",
       "\n",
       "                                                     Genres  Popularity  \n",
       "0         Military, Comedy, Historical, Drama, Fantasy, ...         506  \n",
       "1         Military, Comedy, Historical, Drama, Fantasy, ...         506  \n",
       "2         Military, Comedy, Historical, Drama, Fantasy, ...         506  \n",
       "3         Military, Comedy, Historical, Drama, Fantasy, ...         506  \n",
       "4         Military, Comedy, Historical, Drama, Fantasy, ...         506  \n",
       "...                                                     ...         ...  \n",
       "57629739                      Action, Sci-Fi, Ecchi, Seinen        2350  \n",
       "57629740                      Action, Sci-Fi, Ecchi, Seinen        2350  \n",
       "57629741                     Mystery, Comedy, Kids, Fantasy       16923  \n",
       "57629742  Comedy, Drama, Romance, School, Shounen Ai, Sl...        4637  \n",
       "57629743                                               Kids       17449  \n",
       "\n",
       "[57629744 rows x 7 columns]"
      ]
     },
     "execution_count": 71,
     "metadata": {},
     "output_type": "execute_result"
    }
   ],
   "source": [
    "model_df = ratings_df.merge(anime_df, on=[\"anime_id\"])\n",
    "model_df.sort_values(by=\"user_id\")\n",
    "\n",
    "model_df[\"user_id\"] = model_df[\"user_id\"].astype(str)\n",
    "model_df"
   ]
  },
  {
   "cell_type": "code",
   "execution_count": 72,
   "metadata": {},
   "outputs": [],
   "source": [
    "ratings = tf.data.Dataset.from_tensor_slices(dict(model_df[[\"user_id\", \"Name\", \"rating\"]]))\n",
    "titles = tf.data.Dataset.from_tensor_slices(dict(anime_df[[\"Name\"]]))\n",
    "\n",
    "ratings = ratings.map(lambda x: {\n",
    "    \"user_id\": x[\"user_id\"],\n",
    "    \"Name\": x[\"Name\"],\n",
    "    \"rating\": float(x[\"rating\"])\n",
    "})\n",
    "\n",
    "titles = titles.map(lambda x: x[\"Name\"])"
   ]
  },
  {
   "cell_type": "code",
   "execution_count": 73,
   "metadata": {},
   "outputs": [],
   "source": [
    "tf.random.set_seed(100)\n",
    "shuffle = ratings.shuffle(100_000, reshuffle_each_iteration=False, seed=100)\n",
    "\n",
    "# Train amount = 0.8 * len(ratings) = 46,103,795\n",
    "# Test amount = len(ratings) - 46,103,795 = 11,525,949\n",
    "train = ratings.take(46_103_795)\n",
    "test = ratings.skip(46_103_795).take(11_525_949)"
   ]
  },
  {
   "cell_type": "code",
   "execution_count": 74,
   "metadata": {},
   "outputs": [
    {
     "name": "stdout",
     "output_type": "stream",
     "text": [
      "Unique anime: 17495\n",
      "Unique users: 310059\n"
     ]
    }
   ],
   "source": [
    "anime_titles = titles.batch(1_000)\n",
    "user_ids = ratings.batch(1_000_000).map(lambda x: x[\"user_id\"])\n",
    "\n",
    "unique_anime_titles = anime_df[\"Name\"].unique().tolist()\n",
    "unique_user_ids = ratings_df[\"user_id\"].astype(str).unique().tolist()\n",
    "\n",
    "print(\"Unique anime:\", len(unique_anime_titles))\n",
    "print(\"Unique users:\", len(unique_user_ids))\n"
   ]
  },
  {
   "cell_type": "code",
   "execution_count": 75,
   "metadata": {},
   "outputs": [],
   "source": [
    "class AnimeModel(tfrs.models.Model):\n",
    "    def __init__(self, rating_weight, retrieval_weight) -> None:\n",
    "        super().__init__()\n",
    "        embedding_dimension = 64\n",
    "\n",
    "        self.anime_model: tf.keras.layers.Layer = tf.keras.Sequential([\n",
    "            tf.keras.layers.StringLookup(\n",
    "                vocabulary=unique_anime_titles, mask_token=None),\n",
    "            tf.keras.layers.Embedding(len(unique_anime_titles) + 1, embedding_dimension)\n",
    "        ])\n",
    "\n",
    "        self.user_model: tf.keras.layers.Layer = tf.keras.Sequential([\n",
    "            tf.keras.layers.StringLookup(\n",
    "                vocabulary=unique_user_ids, mask_token=None),\n",
    "            tf.keras.layers.Embedding(len(unique_user_ids) + 1, embedding_dimension)\n",
    "        ])\n",
    "\n",
    "        self.rating_model = tf.keras.Sequential([\n",
    "            tf.keras.layers.Dense(256, activation=\"relu\"),\n",
    "            tf.keras.layers.Dense(128, activation=\"relu\"),\n",
    "            tf.keras.layers.Dense(1)\n",
    "        ])\n",
    "\n",
    "        self.rating_task: tf.keras.layers.Layer = tfrs.tasks.Ranking(\n",
    "            loss=tf.keras.losses.MeanSquaredError(),\n",
    "            metrics=[tf.keras.metrics.RootMeanSquaredError()]\n",
    "        )\n",
    "        \n",
    "        self.retrieval_task: tf.keras.layers.Layer = tfrs.tasks.Retrieval(\n",
    "            metrics=tfrs.metrics.FactorizedTopK(\n",
    "                candidates=titles.batch(128).map(self.anime_model)\n",
    "            )\n",
    "        )\n",
    "\n",
    "        self.rating_weight = rating_weight\n",
    "        self.retrieval_weight = retrieval_weight\n",
    "    \n",
    "    def call(self, features: Dict[Text, tf.Tensor]) -> tf.Tensor:\n",
    "        user_embeddings = self.user_model(features[\"user_id\"])\n",
    "        anime_embeddings = self.anime_model(features[\"Name\"])\n",
    "\n",
    "        return(\n",
    "            user_embeddings,\n",
    "            anime_embeddings,\n",
    "            self.rating_model(\n",
    "                tf.concat([user_embeddings, anime_embeddings], axis=1)\n",
    "            ),\n",
    "        )\n",
    "    \n",
    "    def compute_loss(self, features: Dict[Text, tf.Tensor], training=False) -> tf.Tensor:\n",
    "        ratings = features.pop(\"rating\")\n",
    "\n",
    "        user_embeddings, anime_embeddings, rating_predictions = self(features)\n",
    "\n",
    "        rating_loss = self.rating_task(\n",
    "            labels=ratings,\n",
    "            predictions=rating_predictions\n",
    "        )\n",
    "        retrieval_loss = self.retrieval_task(user_embeddings, anime_embeddings)\n",
    "        return(\n",
    "            self.rating_weight*rating_loss + self.retrieval_weight*retrieval_loss\n",
    "        )"
   ]
  },
  {
   "cell_type": "code",
   "execution_count": 78,
   "metadata": {},
   "outputs": [
    {
     "name": "stdout",
     "output_type": "stream",
     "text": [
      "Epoch 1/5\n"
     ]
    }
   ],
   "source": [
    "model = AnimeModel(rating_weight=1.0, retrieval_weight=1.0)\n",
    "model.compile(optimizer=tf.keras.optimizers.legacy.Adam(0.1))\n",
    "\n",
    "cached_train = train.shuffle(100_000).batch(1_000).cache()\n",
    "cached_test = test.batch(1_000).cache()\n",
    "\n",
    "model.fit(cached_train, epochs=5)"
   ]
  },
  {
   "cell_type": "code",
   "execution_count": null,
   "metadata": {},
   "outputs": [],
   "source": []
  }
 ],
 "metadata": {
  "kernelspec": {
   "display_name": "Python 3",
   "language": "python",
   "name": "python3"
  },
  "language_info": {
   "codemirror_mode": {
    "name": "ipython",
    "version": 3
   },
   "file_extension": ".py",
   "mimetype": "text/x-python",
   "name": "python",
   "nbconvert_exporter": "python",
   "pygments_lexer": "ipython3",
   "version": "3.11.4"
  },
  "orig_nbformat": 4
 },
 "nbformat": 4,
 "nbformat_minor": 2
}
